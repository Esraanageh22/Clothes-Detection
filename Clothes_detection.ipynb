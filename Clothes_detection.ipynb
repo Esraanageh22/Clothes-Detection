{
 "cells": [
  {
   "cell_type": "code",
   "execution_count": 1,
   "id": "ecb3c62d",
   "metadata": {},
   "outputs": [],
   "source": [
    "from torchvision import transforms\n",
    "from detecto import core, utils, visualize\n",
    "from detecto.core import Model\n",
    "from detecto.utils import read_image"
   ]
  },
  {
   "cell_type": "code",
   "execution_count": 2,
   "id": "1ca255ca",
   "metadata": {},
   "outputs": [],
   "source": [
    "model = core.Model.load('clothes270.pth', ['Backpack' , 'Dress' ,  'Footwear' , 'Handbag' ,  'Jacket' , 'Jeans'  ,  'Shirt' ,  'Skirt' , 'Suit' , 'Watch'])"
   ]
  },
  {
   "cell_type": "code",
   "execution_count": 3,
   "id": "0e74e771",
   "metadata": {},
   "outputs": [
    {
     "name": "stdout",
     "output_type": "stream",
     "text": [
      "success!\n"
     ]
    }
   ],
   "source": [
    "import b64\n",
    "image = read_image('input_b64.jpg')\n",
    "#labels, boxes, scores = model.predict(image)\n",
    "labels, boxes, scores = model.predict(image)"
   ]
  },
  {
   "cell_type": "code",
   "execution_count": 4,
   "id": "1c945dcf",
   "metadata": {},
   "outputs": [
    {
     "name": "stdout",
     "output_type": "stream",
     "text": [
      "Shirt\n"
     ]
    }
   ],
   "source": [
    "Max=0\n",
    "scoresnp=scores.numpy()\n",
    "j=-1\n",
    "idx=0\n",
    "for i in scoresnp:\n",
    "  if i>scores[j]:\n",
    "    Max=i\n",
    "    idx=j+1\n",
    "  j+=1\n",
    "empty=[]\n",
    "if labels==empty:\n",
    "  print('Sorry no clothes here, try again!')\n",
    "else:  \n",
    "  print(labels[idx])"
   ]
  },
  {
   "cell_type": "code",
   "execution_count": null,
   "id": "6457489e",
   "metadata": {},
   "outputs": [],
   "source": []
  }
 ],
 "metadata": {
  "kernelspec": {
   "display_name": "Python 3 (ipykernel)",
   "language": "python",
   "name": "python3"
  },
  "language_info": {
   "codemirror_mode": {
    "name": "ipython",
    "version": 3
   },
   "file_extension": ".py",
   "mimetype": "text/x-python",
   "name": "python",
   "nbconvert_exporter": "python",
   "pygments_lexer": "ipython3",
   "version": "3.9.7"
  }
 },
 "nbformat": 4,
 "nbformat_minor": 5
}
